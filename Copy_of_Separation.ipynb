{
  "nbformat": 4,
  "nbformat_minor": 0,
  "metadata": {
    "colab": {
      "name": "Copy of Separation.ipynb",
      "provenance": [],
      "collapsed_sections": [],
      "toc_visible": true,
      "machine_shape": "hm"
    },
    "kernelspec": {
      "name": "python3",
      "display_name": "Python 3"
    }
  },
  "cells": [
    {
      "cell_type": "markdown",
      "metadata": {
        "id": "0URRlZcqUV72"
      },
      "source": [
        "# 0. Imports\n",
        "**Remark.** Note that some cells have \"prerequisites\", for instance the modules loaded below. One way to make sure you run all prerequisites is to clear the kernel and run all cells by clicking on \"Runtime -> Run all\" (or pressing Crtl + F9)."
      ]
    },
    {
      "cell_type": "code",
      "metadata": {
        "id": "5dcrBNNpUX7O"
      },
      "source": [
        "# Basics\n",
        "import numpy as np\n",
        "import pandas as pd\n",
        "import time\n",
        "import itertools as it\n",
        "from itertools import combinations, permutations\n",
        "import math\n",
        "import bisect\n",
        "import networkx as nx\n",
        "import ast\n",
        "\n",
        "# Plotting\n",
        "import matplotlib as mpl\n",
        "import matplotlib.pyplot as plt # plotting\n",
        "import seaborn as sns\n",
        "\n",
        "# Clustering\n",
        "import sklearn.cluster as skc\n",
        "from sklearn import metrics\n",
        "from sklearn.preprocessing import MinMaxScaler\n",
        "\n",
        "# Optimization\n",
        "from scipy.optimize import linprog\n",
        "\n",
        "# Technicalities\n",
        "import os\n",
        "import warnings\n",
        "warnings.filterwarnings(\"ignore\")"
      ],
      "execution_count": 15,
      "outputs": []
    },
    {
      "cell_type": "markdown",
      "metadata": {
        "id": "EIGdeU12Ue4O"
      },
      "source": [
        "# 1. The Linear Programming Method"
      ]
    },
    {
      "cell_type": "markdown",
      "metadata": {
        "id": "5fAFCHu_Ur9-"
      },
      "source": [
        "### 1.1. Some brief technicalities\n",
        "This is needed because in practice, we have no n-ary digits for n > 10, which we use in the text. We overcome this by converting lists to strings."
      ]
    },
    {
      "cell_type": "code",
      "metadata": {
        "id": "BxvUpANXUapO"
      },
      "source": [
        "def substrings(L):\n",
        "    '''\n",
        "    Converts a list L to the list of all its consecutive sublists. \n",
        "    \n",
        "    IN :\n",
        "    L  : List\n",
        "    \n",
        "    OUT:\n",
        "    l  : List of consecutive sublists of L\n",
        "    '''\n",
        "    if len(L) < 1:\n",
        "        return L\n",
        "    else:\n",
        "        ll = [] # Initialize the list\n",
        "        for i in range(len(L) - 1): # Loop over sublist sizes\n",
        "            # Start at the -ith list item; stack this for all i\n",
        "            # That is: find all permutations with same order, \n",
        "            # but different starting point and stack them in a matrix\n",
        "            s = np.stack([np.roll(L, -j) for j in range(i + 1)]) \n",
        "            s = np.transpose(s)[: -i] # Consider only the first n columns in the matrix\n",
        "            l = [j.tolist() for j in s] # Convert from list of arrays to list of lists\n",
        "            ll += l # Add all lists of size i to the list of sublists\n",
        "        \n",
        "        ll = [[i] for i in L] + ll + [L] # Add singular lists and L itself\n",
        "    return ll\n",
        "\n",
        "def str2list(s):\n",
        "  '''\n",
        "  Converts a string s of the form '<some list>' to <some list>.\n",
        "  Example: str2list('[1, 2, 3]') = [1, 2, 3].\n",
        "  This is required to overcome the obstacle that we don't have single digit numerals\n",
        "  for any k > 9.\n",
        "  '''\n",
        "  t = [] # Initialization\n",
        "  for i in range(len(s)):\n",
        "    if s[i] == ',' or s[i] == ' ' or s[i] == '[' or s[i] == ']':\n",
        "        t += [i]\n",
        "  SS = sorted(list(set(range(len(s))).difference(set(t)))) # Indices of numerals in s\n",
        "  \n",
        "  indn = 0  # Initialization\n",
        "  L    = [] # Initialization\n",
        "  while len(SS) > 0:    \n",
        "    indo = SS.pop(0)    # Take the first numeral index and pop it from the list of indices (INDex Old)\n",
        "    k    = int(s[indo]) # Take the corresponding number in string s\n",
        "    \n",
        "    if len(SS) > 0:\n",
        "        indn = SS[0]    # Consider the next index (INDex New)\n",
        "    \n",
        "    while indn == indo + 1 and len(SS) > 0: # If the indices are consecutive\n",
        "        k *= 10                             # Then we have at least one more digit as number\n",
        "        indn = SS.pop(0)                    # Take and remove the next index\n",
        "        k += int(s[indn])                   # add it\n",
        "        \n",
        "        # Repeat the procedure\n",
        "        indo = indn                         \n",
        "        if len(SS) > 0:\n",
        "            indn = SS[0]\n",
        "        \n",
        "    L += [k]\n",
        "\n",
        "  return L"
      ],
      "execution_count": 16,
      "outputs": []
    },
    {
      "cell_type": "markdown",
      "metadata": {
        "id": "KY0ti7qjUw22"
      },
      "source": [
        "### 1.2. The main function\n",
        "Constructs the LP-instance and solves it using the SKLearn LP solver. Note that the computation time is measured within the function, so that only the time it takes to solve the final LP is recorded (i.e. not of the construction of the graph or LP formulation). There is the freedom to choose either an interior points-method or the simplex method."
      ]
    },
    {
      "cell_type": "code",
      "metadata": {
        "id": "0s0d1FpZUv3-",
        "cellView": "code"
      },
      "source": [
        "def mass_flow(Mass, method = 'IP', obsCons = False):\n",
        "    '''\n",
        "    Constructs a minimum-cost-network-flow (MCNF)-resembling graph for an instance\n",
        "    of the separation problem characterised by a mass-vector M.\n",
        "    \n",
        "    Remark.  In comments, we will refer to vertices containing mass fractions as c(ircle) \n",
        "             vertices and decision nodes as s(quare) vertices. The set of arcs from s to c \n",
        "             is denoted by s -> c or Asc etc. etc.\n",
        "\n",
        "    Remark.  The name of each sqaure vertex is of the form (K, L, M), a tuple \n",
        "             where K is the incident vertex of the (unique) ingoing arc and \n",
        "             L, M are the adjacent vertices, connected to the square with \n",
        "             outgoing arcs.\n",
        "\n",
        "    Example. Round vertex [0, 1, 2] goes to two pairs of round vertices, \n",
        "             namely ([0, 1] and [2]) and ([0] and [1, 2]). Round vertex \n",
        "             [0, 1, 2] is connected to each pair through two square-vertices, \n",
        "             namely ([0, 1, 2], [0, 1], [2]) and ([0, 1, 2], [0], [1, 2]) \n",
        "             (in the same respective order as the pairs). In square vertex \n",
        "             ([0, 1, 2], [0, 1], [2]), we have K = [0, 1, 2]; L = [0, 1]; \n",
        "             M = [2]. Note that each of K, L, M are in vc.\n",
        "\n",
        "    IN :\n",
        "    M      : List of masses (\"mass vector\")\n",
        "    method : 'IP' for Interior Points; 'Simplex' for simplex method\n",
        "    obsCons: True: include \"obsolete\" constraints: sinks must have exactly one input stream\n",
        "    \n",
        "    OUT:\n",
        "    opt    : The minimum (float)\n",
        "    order  : The optimal order (list)\n",
        "    ti     : The computation time (in seconds) of only solving the LP (float)\n",
        "             (i.e. excluding the construction of the graph and LP instance)\n",
        "    '''\n",
        "    n = len(Mass) # number of masses\n",
        "    l = list(range(n)) # List of mass indices    \n",
        "    \n",
        "    # Initialize vertex sets\n",
        "    vc = substrings(l) # Circle vertices: all substrings of 1 : len(Mass)\n",
        "    vc.sort(key = len, reverse = True)\n",
        "    vs = []        # Square vertices\n",
        "    \n",
        "    # Initialize arc sets and arc weight sets\n",
        "    acs = [] # Edges from circle to square vertices\n",
        "    asc = [] # Edges from square to circle vertices\n",
        "    wcs = {} # Edge weights fro cs vertices\n",
        "    wsc = {} # Edge weights for sc vertices\n",
        "    \n",
        "    #######################################################\n",
        "    ## Construct the graph: build vs, acs, asc, wcs, wsc ##\n",
        "    #######################################################\n",
        "    for k in vc:\n",
        "        vk = [x for x in vc if len(x) < len(k)] # Look only for substrings (i.e. shorter)\n",
        "        for l in vk:\n",
        "            for m in vk:\n",
        "                if l + m == k:\n",
        "                    K = str(k)\n",
        "                    L = str(l)\n",
        "                    M = str(m)\n",
        "                    # Add a square edge\n",
        "                    vs += [(K, L, M)]\n",
        "                    \n",
        "                    # Add an arc (and its weight) from circle to square (cs)\n",
        "                    # Arcs from circle to square are of the form\n",
        "                    #    (K, (K, L, M))\n",
        "                    # Where K is a round vertex and (K, L, M) is a square\n",
        "                    # vertex. The notation becomes rather tedious, admittedly.\n",
        "                    acs += [(K, (K, L, M))]\n",
        "                    w    = 0\n",
        "                    for i in k: w += Mass[i]\n",
        "                    wcs[(K, (K, L, M))] = w\n",
        "                    \n",
        "                    # Add two arcs (weights) from square to circle (sc)\n",
        "                    asc += [((K, L, M), L), ((K, L, M), M)]\n",
        "                    wsc[((K, L, M), L)] = 0\n",
        "                    wsc[((K, L, M), M)] = 0\n",
        "                    \n",
        "    vc = [str(i) for i in vc] # Vertex labels as strings\n",
        "    \n",
        "    #######################################################################\n",
        "    ## Use the constructed graph to create a linear programming instance ##\n",
        "    #######################################################################\n",
        "    ## The problem instance is described as\n",
        "    ##           maximize    C x\n",
        "    ##           Subject to  A x = [1 0 ... 0] =: b\n",
        "    ##                         x in [0, 1] for all x\n",
        "    \n",
        "    ## ------------------- ##\n",
        "    ## ---- Finding C ---- ##\n",
        "    ## ------------------- ##\n",
        "    W = {**wcs, **wsc} # Merge dictionaries of sc-arc and cs-arc costs\n",
        "    X = pd.DataFrame.from_dict(W, orient = 'index') # Transform the dictionary to a Pandas\n",
        "                                                    # DataFrame\n",
        "    C = X[:]\n",
        "    C = C.T\n",
        "    \n",
        "    ## ------------------- ##\n",
        "    ## ---- Finding A ---- ##\n",
        "    ## ------------------- ##\n",
        "    ## ---- Constraints on arcs of the form s -> c ---- ##\n",
        "    Xsc = pd.DataFrame([[0] * (len(C.T))] * 2 * len(acs)) # We will need 2|Acs| constraints\n",
        "    Xsc.columns = C.columns # We make sure that the order of the columns is the same as that of C\n",
        "    Xsc.index = ['sc' + str(i) for i in Xsc.index] # Rename rows in order to join with c -> s constraints later\n",
        "\n",
        "    # Each arc of the form s -> c is of the form ((K, L, M), L) or ((K, L, M), M). \n",
        "    # Each arc of the form c -> s is of the form (K', (K', L', M')).\n",
        "    # Each square vertex has exactly one ingoing arc, hence, one parent, say K. \n",
        "    #     The constraint is: each arc (K, (K, L, M)) in c ->s should have the same \n",
        "    # value as the ingoing arc of the square vertex (K, L, M). Thus, the constraints are\n",
        "    # of the form:\n",
        "    #        x_((K, L, M), L) = x_(K, (K, L, M))\n",
        "    #        x_((K, L, M), M) = x_(K, (K, L, M))\n",
        "    # Hence,\n",
        "    #        x_((K, L, M), L) - x_(K, (K, L, M)) = 0\n",
        "    #        x_((K, L, M), M) - x_(K, (K, L, M)) = 0\n",
        "    cc = 0\n",
        "    for k in asc:\n",
        "        Xsc.loc['sc' + str(cc)][k] = 1 # k = ((K, L, M), L) or k = ((K, L, M), M)\n",
        "        for l in acs:\n",
        "            if l[1] == k[0]: # If l = (K, (K, L, M))\n",
        "                Xsc.loc['sc' + str(cc)][l] = -1 # Thus x_((K, L, M), L) - x_(K, (K, L, M)) = 0 and x_((K, L, M), M) - x_(K, (K, L, M)) = 0\n",
        "        cc += 1\n",
        "    \n",
        "    ## ---- Constraints on arcs of the form s -> c ---- ##\n",
        "    Xcs = pd.DataFrame([[0] * (len(C.T))] * len(acs)) # |Acs| is an upperbound on the number of constraints needed\n",
        "    Xcs.columns = C.columns\n",
        "    Xcs.index = ['cs' + str(i) for i in Xcs.index]\n",
        "    \n",
        "    # Arcs of the form c -> s go from a vertex of the form K to vertex of the form (K, L, M).\n",
        "    # Contrary to s-vertices, c-vertices can have multiple incoming arcs and \"any\" number of\n",
        "    # outgoing arcs. Arcs in c -> s should satisfy flow in = flow out (\"flow conservation).\n",
        "    # Thus:\n",
        "    #        Σ_(K, L, M) x_(K, (K, L, M)) = Σ_{A, B} (x_((A, K, B), K) + x_((A, B, K), K)\n",
        "    # This can be approached in a manner very similar to the constraints of the form c -> s\n",
        "    \n",
        "    cc  = 0\n",
        "    ##########################################\n",
        "    ## Experiment with obsolete constraints ##\n",
        "    ##########################################\n",
        "    \n",
        "    if obsCons:\n",
        "      vc3 = vc # In case experiment\n",
        "    else:\n",
        "      vc3 = [i for i in vc if len(i) > 3] # Don't consider sink-vertices (singleton lists as strings, hence, length 3)\n",
        "                                        # We ignore these as they have no outgoing arcs.\n",
        "    for k in vc3: # Loop through all c vertices\n",
        "        for l in acs:\n",
        "            if l[0] == k: # If c vertex k is the root vertex l in Acs\n",
        "                Xcs.loc['cs' + str(cc)][l] = 1 \n",
        "        for m in asc:\n",
        "            if m[1] == k: # If k is the leaf of m in Asc\n",
        "                Xcs.loc['cs' + str(cc)][m] = -1\n",
        "        cc += 1\n",
        "    # return Xcs\n",
        "    \n",
        "    # print(Xcs[Xcs.sum(axis = 1) == len(Mass) - 1])\n",
        "    idx = Xcs[Xcs.sum(axis = 1) == len(Mass) - 1]\n",
        "    idx = idx.index\n",
        "    # Xcs = Xcs[Xcs.sum(axis = 1) != len(M) - 1] # like the sinks, we remove the source (the only vertex with n - 1 outgoing arcs)\n",
        "    \n",
        "    ## ---- The final equality constraint matrix A ---- ##\n",
        "    A = Xcs.T.join(Xsc.T).T # Join based on columns (this is what required the indices to be distinct hence the 'cs' + str(i) mumbo jumbo)\n",
        "\n",
        "    ## ------------------- ##\n",
        "    ## ---- Finding b ---- ##\n",
        "    ## ------------------- ##\n",
        "    l = np.shape(A)[0]\n",
        "    b = pd.DataFrame([0] * l)\n",
        "\n",
        "    b.index = A.index\n",
        "    b.loc[idx[0]]  = 1  # The total flow entering the network is equal to 1  \n",
        "    \n",
        "    #################################\n",
        "    ## Experiment extra constraint ##\n",
        "    #################################\n",
        "    if obsCons:\n",
        "      tnn = n * (n - 1) / 2 # Triangular number of n: This many rows for first block\n",
        "      for i in range(n):\n",
        "        b.iloc[int(tnn + i)] = -1 # -1 right-hand side: one inflow stream\n",
        "    #################################\n",
        "    ##                             ##\n",
        "    ################################# \n",
        "    \n",
        "    ## -------------------------------- ##\n",
        "    ## ---- Lower and Upper Bounds ---- ##\n",
        "    ## -------------------------------- ##\n",
        "    # We have 0 <= x <= 1 for all x.\n",
        "    bound = [(0, 1)] * np.shape(A)[1] # Upper and lower bounds for each variable\n",
        "    \n",
        "    #################################################################\n",
        "    ## Solving the problem using SciPy's linear programming solver ##\n",
        "    #################################################################\n",
        "    c = C.values[0] # List instead of pandas DataFrame\n",
        "    a = A.values\n",
        "    # b is already a list!\n",
        "    # bounds is also already in required shape\n",
        "\n",
        "    if method == 'simplex': \n",
        "      t = time.clock()\n",
        "      res = linprog(c, A_eq = A, b_eq = b, bounds = bound, method = 'revised simplex')\n",
        "      ti  = time.clock() - t\n",
        "    else:\n",
        "      t = time.clock()\n",
        "      res = linprog(c, A_eq = A, b_eq = b, bounds = bound) # Interior points is default\n",
        "      ti  = time.clock() - t\n",
        "    \n",
        "    ##########################################################\n",
        "    ## Translating the results back to the original problem ##\n",
        "    ##########################################################\n",
        "    opt = res.fun\n",
        "    sol = [C.columns[i] for i in range(len(C.columns)) if res.x[i] == 1] # Basic variables\n",
        "    l = [i for i in sol if type(i[0]) == str] # We only need to have the arcs of the form c -> s\n",
        "                                              # These are tuples (K, (K, L, M)) with K a string.\n",
        "                                              # This is opposed to arcs of the form s -> c, which\n",
        "                                              # are of the form ((K, L, M), L) (or ...M), so that\n",
        "                                              # the type of the 0th entry is a tuple, not a string!\n",
        "    ## Computing the optimal order ##\n",
        "    m = [i[1] for i in l] # Use (K, L, M) of each arc (K, (K, L, M)) in l\n",
        "    order = [str2list(sd[2])[0] for sd in m]  # Separated at the first index of M (which we first convert to a list)\n",
        "\n",
        "    return opt, order, ti, A, res.x"
      ],
      "execution_count": 17,
      "outputs": []
    },
    {
      "cell_type": "markdown",
      "metadata": {
        "id": "mM92HmbfV8v8"
      },
      "source": [
        "# 2. Dynamic programming\n",
        "This is the DP-algorithm in its most primitive form."
      ]
    },
    {
      "cell_type": "code",
      "metadata": {
        "id": "Dmzsc7RmV54r"
      },
      "source": [
        "def DP_sodhi(M,i,j):\n",
        "    min_r  = 1000000000    \n",
        "    if j - i <= 1:\n",
        "        C = 0\n",
        "    else:\n",
        "        C      = sum(M[i:j])        \n",
        "        for r in range(j - i - 1):\n",
        "            k = i + r + 1\n",
        "            \n",
        "            cr1 = DP_sodhi(M, i, k) \n",
        "            cr2 = DP_sodhi(M, k, j)\n",
        "            \n",
        "            cr  = cr1 + cr2\n",
        "            \n",
        "            if cr < min_r:\n",
        "                min_r = cr        \n",
        "        C    += min_r        \n",
        "    return C"
      ],
      "execution_count": 18,
      "outputs": []
    },
    {
      "cell_type": "markdown",
      "metadata": {
        "id": "J2u62NcKWnO3"
      },
      "source": [
        "# 3. Experiments"
      ]
    },
    {
      "cell_type": "markdown",
      "metadata": {
        "id": "Mo5f0BpIXOAI"
      },
      "source": [
        "### 3.1. A quick test\n",
        "Below is a test to verify that the algorithms produce the same output."
      ]
    },
    {
      "cell_type": "code",
      "metadata": {
        "id": "B6WLn-bwXOHo",
        "colab": {
          "base_uri": "https://localhost:8080/"
        },
        "outputId": "a6d051b4-fd4e-4aee-f201-a1b8fcbd3d36"
      },
      "source": [
        "#Mass = [28, 21, 23, 25, 27, 32, 25, 24]\n",
        "size = 10\n",
        "Mass = np.random.uniform(0, 100, size)\n",
        "#vmat = create_vec(len(Mass))\n",
        "\n",
        "# Linear Programming\n",
        "opt, orde, ti, A, x = mass_flow(Mass, obsCons = True)\n",
        "print('Linear Programming')\n",
        "print('Optimum         : ', opt)\n",
        "print('Computation time: ', ti, '\\n')\n",
        "\n",
        "# Dynamic Programming\n",
        "t   = time.clock()\n",
        "opt = DP_sodhi(Mass, 0, len(Mass))\n",
        "ti  = time.clock() - t\n",
        "print('Dynamic Programming')\n",
        "print('Optimum         : ', opt)\n",
        "print('Computation time: ', ti, '\\n')\n",
        "\n",
        "# Vectorization\n",
        "# t   = time.clock()\n",
        "# opt = np.min(np.dot(np.array(vmat), Mass))\n",
        "# ti  = time.clock() - t\n",
        "# print('Vectorization')\n",
        "# print('Optimum         : ', opt)\n",
        "# print('Computation time: ', ti)"
      ],
      "execution_count": 19,
      "outputs": [
        {
          "output_type": "stream",
          "text": [
            "Linear Programming\n",
            "Optimum         :  1147.6953848940866\n",
            "Computation time:  4.983158000000003 \n",
            "\n",
            "Dynamic Programming\n",
            "Optimum         :  1147.6953832560318\n",
            "Computation time:  0.32432300000004943 \n",
            "\n"
          ],
          "name": "stdout"
        }
      ]
    },
    {
      "cell_type": "markdown",
      "metadata": {
        "id": "dbkXUesVzEI-"
      },
      "source": [
        "**Experiment: With/without sink constraints**\r\n",
        "\r\n",
        "Sink constraints are not strictly necessary in the LP-formulation. Here, we test whether their inclusion affects computation time.\r\n"
      ]
    },
    {
      "cell_type": "code",
      "metadata": {
        "id": "Wj_-Pvc-zDSH"
      },
      "source": [
        "k = 0\n",
        "\n",
        "smitt = 0\n",
        "sohne = 0\n",
        "\n",
        "while k < 50:\n",
        "\n",
        "    size = 10\n",
        "    Mass = np.random.uniform(0, 100, size)\n",
        "    #vmat = create_vec(len(Mass))\n",
        "    \n",
        "    # Linear Programming\n",
        "    opt, orde, ti, A, x = mass_flow(Mass, method = 'Simplex', obsCons = True)\n",
        "    # print('With constraints')\n",
        "    # print('Optimum         : ', opt)\n",
        "    # print('Computation time: ', ti, '\\n')\n",
        "    smitt += ti\n",
        "\n",
        "    opt, orde, ti, A, x = mass_flow(Mass, method = 'Simplex', obsCons = False)\n",
        "    # print('Without constraints')\n",
        "    # print('Optimum         : ', opt)\n",
        "    # print('Computation time: ', ti, '\\n')\n",
        "    sohne += ti\n",
        "\n",
        "    k = k + 1"
      ],
      "execution_count": null,
      "outputs": []
    },
    {
      "cell_type": "code",
      "metadata": {
        "id": "nHcUW342qAKC",
        "colab": {
          "base_uri": "https://localhost:8080/"
        },
        "outputId": "25787fa6-66f7-4b78-91be-4b2e7a779023"
      },
      "source": [
        "print('With constraints')\n",
        "print('Mean computation time: ', smitt / 50, '\\n')\n",
        "\n",
        "print('Without constraints')\n",
        "print('Mean computation time: ', sohne / 50, '\\n')"
      ],
      "execution_count": null,
      "outputs": [
        {
          "output_type": "stream",
          "text": [
            "With constraints\n",
            "Mean computation time:  6.021730100000013 \n",
            "\n",
            "Without constraints\n",
            "Mean computation time:  4.675607279999995 \n",
            "\n"
          ],
          "name": "stdout"
        }
      ]
    },
    {
      "cell_type": "markdown",
      "metadata": {
        "id": "lU4AFTT0XhU4"
      },
      "source": [
        "### 3.2. Time comparisons between the methods"
      ]
    },
    {
      "cell_type": "markdown",
      "metadata": {
        "id": "cMtE455OYzZQ"
      },
      "source": [
        "Set the number of sizes. We will test randomly generated problem instances k times for each of the numbers 2 through N mass fractions"
      ]
    },
    {
      "cell_type": "code",
      "metadata": {
        "id": "A6mwBiWnYRX4"
      },
      "source": [
        "N = 15"
      ],
      "execution_count": null,
      "outputs": []
    },
    {
      "cell_type": "code",
      "metadata": {
        "id": "9Fl7w17KWfmX"
      },
      "source": [
        "# Initialize vectors storing mean time complexities per problem size\n",
        "MDP      = []\n",
        "Msimplex = []\n",
        "MIP      = []\n",
        "Mip      = []\n",
        "#Mvect    = []\n",
        "nu       = []\n",
        "\n",
        "for size in range(N - 1):\n",
        "    size = size + 2\n",
        "    \n",
        "    nExp  = 10 # Number of experiments per size\n",
        "    k     = 0\n",
        "    \n",
        "    # Initialize vectors storing time complexities\n",
        "    DP      = []\n",
        "    simplex = []\n",
        "    IP      = []\n",
        "    ip      = []\n",
        "    #vect    = []\n",
        "    \n",
        "    #dd = d[size]\n",
        "    while k < nExp:\n",
        "        # Generate a random problem instance \n",
        "        M = np.random.uniform(0, 100, size)\n",
        "        \n",
        "        # Measure the computation time of the DP method       \n",
        "        time_start = time.clock()\n",
        "        DP_sodhi(M, 0, len(M))\n",
        "        T_DP = time.clock() - time_start\n",
        "    \n",
        "        DP += [T_DP]  # store the computation time\n",
        "        \n",
        "        # Simlex method\n",
        "        sim, x, ti, A, b = mass_flow(M, method = 'simplex')\n",
        "        \n",
        "        simplex += [ti]\n",
        "        \n",
        "        # Interior points method\n",
        "        time_start = time.clock()\n",
        "        sim, x, ti, A, b = mass_flow(M, method = 'IP')\n",
        "        T = time.clock() - time_start\n",
        "        \n",
        "        IP += [T] # T: time of mass_flow(); ti: only LP solver time.\n",
        "        ip += [ti]\n",
        "        \n",
        "        # Vectorization\n",
        "        \n",
        "        # time_start = time.clock()\n",
        "        # np.argmin(np.dot(np.array(dd), M))\n",
        "        # T = time.clock() - time_start\n",
        "        \n",
        "        # vect += [T]\n",
        "        \n",
        "        \n",
        "        k += 1\n",
        "    \n",
        "    nu       += [size]\n",
        "    MDP      += [np.mean(DP)]\n",
        "    Msimplex += [np.mean(simplex)]\n",
        "    MIP      += [np.mean(IP)]\n",
        "    Mip      += [np.mean(ip)]\n",
        "   # Mvect    += [np.mean(vect)]\n",
        "    "
      ],
      "execution_count": 24,
      "outputs": []
    },
    {
      "cell_type": "markdown",
      "metadata": {
        "id": "MlNN61oXdQZs"
      },
      "source": [
        "### 3.3. Plotting the output"
      ]
    },
    {
      "cell_type": "code",
      "metadata": {
        "id": "76pbeXAvdSRo",
        "colab": {
          "base_uri": "https://localhost:8080/",
          "height": 295
        },
        "outputId": "ec28d7a0-ecd0-48e9-cee1-fa89abc034f9"
      },
      "source": [
        "df = np.concatenate(([MDP], [Msimplex], [MIP]), axis = 0) \n",
        "df = pd.DataFrame(df).T\n",
        "df.columns = ['DP', 'Simplex', 'Interior points']\n",
        "df.index = nu\n",
        "\n",
        "x = df.index\n",
        "#plt.scatter(x, df['Vector'], label = 'Vectorization')\n",
        "plt.scatter(x, df['DP'], label = 'Dynamic Programming')\n",
        "plt.scatter(x, df['Interior points'], label = 'Interior Points')\n",
        "plt.scatter(x, df['Simplex'], label = 'Revised Simplex Method')\n",
        "plt.title('Computation times')\n",
        "plt.xlabel('Number of mass fractions')\n",
        "plt.ylabel('Mean computation time (s)')\n",
        "plt.legend()\n",
        "# plt.yscale(\"log\")\n",
        "plt.show()"
      ],
      "execution_count": 25,
      "outputs": [
        {
          "output_type": "display_data",
          "data": {
            "image/png": "[encoded data removed]",
            "text/plain": [
              "<Figure size 432x288 with 1 Axes>"
            ]
          },
          "metadata": {
            "tags": [],
            "needs_background": "light"
          }
        }
      ]
    },
    {
      "cell_type": "markdown",
      "metadata": {
        "id": "O3ZsRC2WbUmZ"
      },
      "source": [
        "# 5. Some Other Experiments\n"
      ]
    },
    {
      "cell_type": "markdown",
      "metadata": {
        "id": "6I2e24zp7rFz"
      },
      "source": [
        "### 5.1. LP solving vs LP construction and solving\r\n",
        "Computation time of merely solving the LP versus computation time of constructing the LP instance and solving it."
      ]
    },
    {
      "cell_type": "code",
      "metadata": {
        "id": "22OkQz9ZC8LO",
        "colab": {
          "base_uri": "https://localhost:8080/",
          "height": 295
        },
        "outputId": "466b0a40-695f-4a75-e892-c1833467de1d"
      },
      "source": [
        "DF = np.concatenate(([Mip], [MIP]), axis = 0) \n",
        "DF = pd.DataFrame(DF).T\n",
        "DF.columns = ['LP only', 'LP and construction']\n",
        "DF.index = nu\n",
        "\n",
        "x = DF.index\n",
        "plt.scatter(x, DF['LP only'], label = 'LP only')\n",
        "plt.scatter(x, DF['LP and construction'], label = 'LP and construction')\n",
        "\n",
        "plt.title('Computation times')\n",
        "plt.xlabel('Number of mass fractions')\n",
        "plt.ylabel('Mean computation time (s)')\n",
        "plt.legend()\n",
        "# plt.yscale(\"log\")\n",
        "plt.show()"
      ],
      "execution_count": 26,
      "outputs": [
        {
          "output_type": "display_data",
          "data": {
            "image/png": "[encoded data removed]",
            "text/plain": [
              "<Figure size 432x288 with 1 Axes>"
            ]
          },
          "metadata": {
            "tags": [],
            "needs_background": "light"
          }
        }
      ]
    },
    {
      "cell_type": "code",
      "metadata": {
        "id": "xAWL1g9Ztlhf",
        "colab": {
          "base_uri": "https://localhost:8080/",
          "height": 283
        },
        "outputId": "b9520f87-95d3-40bd-9c52-d23acd924ec9"
      },
      "source": [
        "plt.scatter(x, DF['LP and construction'] - DF['LP only'])"
      ],
      "execution_count": 27,
      "outputs": [
        {
          "output_type": "execute_result",
          "data": {
            "text/plain": [
              "<matplotlib.collections.PathCollection at 0x7f27b8adfb70>"
            ]
          },
          "metadata": {
            "tags": []
          },
          "execution_count": 27
        },
        {
          "output_type": "display_data",
          "data": {
            "image/png": "[encoded data removed]",
            "text/plain": [
              "<Figure size 432x288 with 1 Axes>"
            ]
          },
          "metadata": {
            "tags": [],
            "needs_background": "light"
          }
        }
      ]
    },
    {
      "cell_type": "markdown",
      "metadata": {
        "id": "vfqTKmre76ZZ"
      },
      "source": [
        "### 5.2. Added value of sink constriants?\r\n",
        "Sink constraints can be included, but are not necessary due to flow conservation."
      ]
    },
    {
      "cell_type": "code",
      "metadata": {
        "colab": {
          "base_uri": "https://localhost:8080/"
        },
        "id": "JjXjARpH76jg",
        "outputId": "35f017c4-a976-42da-ff6c-8c7d87242f5a"
      },
      "source": [
        "k = 0\r\n",
        "\r\n",
        "smitt = 0\r\n",
        "sohne = 0\r\n",
        "\r\n",
        "while k < 50:\r\n",
        "\r\n",
        "    size = 10\r\n",
        "    Mass = np.random.uniform(0, 100, size)\r\n",
        "    \r\n",
        "    # Linear Programming\r\n",
        "    opt, orde, ti, A, x = mass_flow(Mass, method = 'Simplex', obsCons = True)\r\n",
        "    # print('With constraints')\r\n",
        "    # print('Optimum         : ', opt)\r\n",
        "    # print('Computation time: ', ti, '\\n')\r\n",
        "    smitt += ti\r\n",
        "\r\n",
        "    opt, orde, ti, A, x = mass_flow(Mass, method = 'Simplex', obsCons = False)\r\n",
        "    # print('Without constraints')\r\n",
        "    # print('Optimum         : ', opt)\r\n",
        "    # print('Computation time: ', ti, '\\n')\r\n",
        "    sohne += ti\r\n",
        "\r\n",
        "    k = k + 1\r\n",
        "\r\n",
        "print('With constraints')\r\n",
        "print('Mean computation time: ', smitt / 50, '\\n')\r\n",
        "\r\n",
        "print('Without constraints')\r\n",
        "print('Mean computation time: ', sohne / 50, '\\n')"
      ],
      "execution_count": 29,
      "outputs": [
        {
          "output_type": "stream",
          "text": [
            "With constraints\n",
            "Mean computation time:  5.612170839999981 \n",
            "\n",
            "Without constraints\n",
            "Mean computation time:  4.156694159999997 \n",
            "\n"
          ],
          "name": "stdout"
        }
      ]
    },
    {
      "cell_type": "markdown",
      "metadata": {
        "id": "XPLFiH02nW32"
      },
      "source": [
        "# 6. Heuristics (supplementary)"
      ]
    },
    {
      "cell_type": "markdown",
      "metadata": {
        "id": "RCChVlQynpVW"
      },
      "source": [
        "### 6.1. Center of Mass\r\n",
        "**Algorithm (\"CoM\").** At each step, separate at the center of mass of the unseparated region to be divided. \r\n",
        "\r\n",
        "**Complexity.** $O(n)$.\r\n",
        "\r\n",
        "**Proposition.** CoM has a worst-case-ratio of $4/3$.\r\n",
        "\r\n",
        "**Proof sketch.** Consider mass vector\r\n",
        "\r\n",
        "$$M = (1, \\delta, \\delta, 1)$$\r\n",
        "\r\n",
        "Where $\\delta = 3\\epsilon/(4-6\\epsilon)$ for given $\\epsilon$. If $\\epsilon$ is sufficiently small ($\\epsilon\\leq 1/3$), we now have optimal separation order $(1,3,2)$ with \r\n",
        "\r\n",
        "$$OPT=3+6\\delta$$\r\n",
        "\r\n",
        "whereas the CoM algorithm has cost \r\n",
        "\r\n",
        "$$CoM=4+4\\delta$$ \r\n",
        "\r\n",
        "Some algebraic manipulation now shows that we can choose $\\epsilon$ so that \r\n",
        "\r\n",
        "$$CoM/OPT = 4/3 - \\epsilon$$\r\n",
        "\r\n",
        "This type of scenario occurs whenever the mass is located aways from the center mass, thus the example with four masses ."
      ]
    },
    {
      "cell_type": "code",
      "metadata": {
        "id": "rKvFm-m0naJU"
      },
      "source": [
        "def CoM(M, i, j):\n",
        "    n = len(M) \n",
        "    min_r  = 1000000000\n",
        "        \n",
        "    if j - i == 1:\n",
        "        C = 0    \n",
        "    elif j - i == 2:\n",
        "        C = sum(M[i:j]) # Cost of separating just two regions\n",
        "    else:\n",
        "        m   = np.array(M[i:j])# M restricted to [i:j]\n",
        "        C   = sum(m)          # Total mass of M restricted t [i:j]\n",
        "        com = C / 2             # Center of mass of M restricted to [i:j]\n",
        "        \n",
        "        s = np.cumsum(m)      # Array of cummulative mass\n",
        "        s = np.abs(s - com)   # Subtract center of mass from cummulative masses\n",
        "        k = np.argmin(s) + 1  # Index of element minimizing |cum. mass - CoM|\n",
        "        # s = s - com         # Alternative way to obtain the same index\n",
        "        # k = np.where(s > 0)[0][0]\n",
        "        k = k + i\n",
        "        \n",
        "        cr1 = CoM(M, i, k) # Recursive call on subproblem 1\n",
        "        cr2 = CoM(M, k, j) # Recursive call on subproblem 2\n",
        "        cr  = cr1 + cr2\n",
        "            \n",
        "        C += cr\n",
        "\n",
        "    return C"
      ],
      "execution_count": 30,
      "outputs": []
    },
    {
      "cell_type": "markdown",
      "metadata": {
        "id": "DnQ_L5-cn3rC"
      },
      "source": [
        "### 6.2. Reverse-Greedy\r\n",
        "**Algorithm: Reverse-greedy (\"RG\").** Instead of considering the problem of separating masses, consider the problem of starting with only separated masses. Merge unseparated regions in every step. Choose the regions to be merged greedily, I.E. the smallest merging cost (=separation cost) at each step. Continue until only one unseparated region emerges. Now return as separation order the reverse merging order.\r\n",
        "\r\n",
        "**Complexity.** $O(n)$.\r\n",
        "\r\n",
        "**Proposition.** Algorithm RG is optimal if $n\\leq 4$, but the worst-case ratio is unbounded if $n\\geq 5$.\r\n",
        "\r\n",
        "**Proof sketch.** We consider the case with unit cost function $f:x\\mapsto x$. The resultis trivially generalized to a unit monotone increasing cost-function.\r\n",
        "\r\n",
        "Suppose that we have an instance with $5$ masses and the RG solution (order of separation) is $(4,2,3,1)$ (that is: the optimal merging order is $(1,3,2,4)$. Becuase this order is greedy, the following inequalities must hold (referred to as Ineq. 1):\r\n",
        "\r\n",
        "\\begin{equation}\r\n",
        "\\begin{array}{lll}\r\n",
        "m_1 + m_2 &\\leq m_i + m_{i+1}  &\\text{(merge $1$ first)}\\\\\r\n",
        " m_4 &\\leq m_1 + m_2   &\\text{(merge $3$ second)} \\\\\r\n",
        "m_3  &\\leq m_5 &\\text{(merge $3$ second)}\\\\\r\n",
        "m_1 + m_2 &\\leq m_5 &\\text{(merge $2$ third)}\r\n",
        "\\end{array}\r\n",
        "\\end{equation}\r\n",
        "\r\n",
        "for $i=1,2,3,4$. The RG solution can be written in vector-multiplication format as \r\n",
        "$$(3,3,3,3,1)\\cdot M$$\r\n",
        "\r\n",
        "with $M$ the vector of masses. But there exists a solution with cost \r\n",
        "$$(3,3,2,2,2)\\cdot M$$\r\n",
        "\r\n",
        "(for example: the separation order $(3,4,2,1)$; there is an algorithm for converting vectors to separation algorithms presented in Section 7.2). We call the cost of this solution \"A\". Now consider\r\n",
        "\r\n",
        "$$RG/A = ((3,3,3,3,1)\\cdot M)/ ((3,3,2,2,2)\\cdot M)$$\r\n",
        "\r\n",
        "Suppose we want to maximize $OPT/RG$. Since $M$ is strictly non-negative, this is equivalent to maximizing $((3,3,3,1) - (3,3,2,2,2))\\cdot M$. \r\n",
        "\r\n",
        "But now we can formulate the linear program\r\n",
        "\r\n",
        "$$ Maximize z = ((3,3,3,1) - (3,3,2,2,2))\\cdot M$$\r\n",
        "$$S.t.~~ Ineq.~ 1$$\r\n",
        "\r\n",
        "It is easily verified that this LP is unbounded. Hence, for any $x\\in R$, we can find an instance $I_x$ so that\r\n",
        "\r\n",
        "$$RG(I_x)/OPT(I_x)\\geq RG(I_x)/A(I_x)\\geq x$$\r\n",
        "\r\n",
        "For $OPT(I_x)$ the theoretical optimal value of the separation problem on instance $I_x$."
      ]
    },
    {
      "cell_type": "code",
      "metadata": {
        "id": "I6OXoP7dn3yn"
      },
      "source": [
        "def RG(M):\n",
        "  '''\n",
        "  The reverse-greedy method from the text. I will use \"separation step\" in comments. \n",
        "  Technically, \"merging steps\" is more accurate as we work in reverse.\n",
        "  \n",
        "  IN :\n",
        "  M  : vector of masses.\n",
        "  \n",
        "  OUT:\n",
        "  C  : Cost of separation in accordance with RG method.\n",
        "  P  : Separation order in accordance with RG method.\n",
        "  '''\n",
        "  # Initializations #\n",
        "  x = [i for i in range(len(M) - 1)] # Keeps track of separation steps not yet carried out\n",
        "  P = [] \n",
        "  C = 0\n",
        "  \n",
        "  while len(M) > 1:\n",
        "    a = [M[i] + M[i + 1] for i in range(len(M) - 1)] # Sum of masses of adjacent regions \n",
        "    am = np.argmin(a)  # Minimal index of that sum\n",
        "    \n",
        "    P += [x[am]] # Add the minimal argument's separation step to P\n",
        "    C += a[am]   # Add the mass corresponding to the step to the cost\n",
        "    \n",
        "    x = x[0 : am ] + x[am + 1 :]  # Shrink x: separation step has been carried out\n",
        "    \n",
        "    # Replace two unseparated regions by the one obtained by merging them\n",
        "    M[am + 1] = a[am]  \n",
        "\n",
        "    M = list(M[0 : am]) + list(M[am + 1 :])\n",
        "  \n",
        "  P.reverse() # Reverse P as we worked in reverse\n",
        "  P = [p + 1 for p in P]\n",
        "  return C, P "
      ],
      "execution_count": 31,
      "outputs": []
    },
    {
      "cell_type": "markdown",
      "metadata": {
        "id": "6KHAWUifns8Q"
      },
      "source": [
        "### 6.3. Experiments\n",
        "\n",
        "\n"
      ]
    },
    {
      "cell_type": "code",
      "metadata": {
        "id": "jc7m2Rbfn4rn"
      },
      "source": [
        "me_C = []\n",
        "me_r = []\n",
        "ma_C = []\n",
        "ma_r = []\n",
        "st = []\n",
        "ma = []\n",
        "\n",
        "nu = []\n",
        "\n",
        "mC = []\n",
        "mr = []\n",
        "mg = []\n",
        "\n",
        "for size in range(N - 1):\n",
        "    size = size + 2\n",
        "\n",
        "    T_opt  = []\n",
        "    T_COM  = []\n",
        "    T_rg   = []\n",
        "    difs_C = []\n",
        "    difs_r = []\n",
        "    nExp   = 100\n",
        "    k      = 0\n",
        "    \n",
        "    while k < nExp:\n",
        "        M = np.random.uniform(0, 100, size)\n",
        "        \n",
        "        i  = 0\n",
        "        j  = len(M)\n",
        "        \n",
        "        #time_start = time.clock()\n",
        "        OPT = DP_sodhi(M, i, j)\n",
        "        #T_opt += [time.clock() - time_start]\n",
        "            \n",
        "        time_start = time.clock()\n",
        "        COM = CoM(M, i, j)\n",
        "        T_COM += [time.clock() - time_start]\n",
        "                \n",
        "        time_start = time.clock()\n",
        "        rg, P = RG(M)\n",
        "        T_rg += [time.clock() - time_start]\n",
        "          \n",
        "        difs_C  += [COM / OPT]\n",
        "        difs_r  += [rg  / OPT]\n",
        "        \n",
        "        k += 1\n",
        "    \n",
        "    nu += [size]\n",
        "    \n",
        "    me_C += [np.mean(difs_C)] # Mean of differences\n",
        "    #st += [np.std(difs)]  # stdev of differences\n",
        "    ma_C += [max(difs_C)]     # maximum difference\n",
        "    \n",
        "    me_r += [np.mean(difs_r)] # Mean of differences\n",
        "    #st += [np.std(difs)]  # stdev of differences\n",
        "    ma_r += [max(difs_r)]     # maximum difference\n",
        "    \n",
        "    mC += [np.mean(T_COM)]   \n",
        "    mr += [np.mean(T_rg)]\n",
        "    mg += [np.mean(T_opt)]"
      ],
      "execution_count": 32,
      "outputs": []
    },
    {
      "cell_type": "markdown",
      "metadata": {
        "id": "8aOAukRxXrxa"
      },
      "source": [
        "#### Results: Deviation from optimum"
      ]
    },
    {
      "cell_type": "code",
      "metadata": {
        "id": "FF5uFAvmu3Mf",
        "colab": {
          "base_uri": "https://localhost:8080/",
          "height": 295
        },
        "outputId": "dfac416b-0778-40b8-a3b1-1499022c1951"
      },
      "source": [
        "df = np.concatenate(([ma_C], [ma_r]), axis = 0) \n",
        "#df = np.concatenate(([me_C], [me_r]), axis = 0) \n",
        "df = pd.DataFrame(df).T\n",
        "df.columns = ['CoM', 'RG']\n",
        "df.index = nu\n",
        "x = df.index\n",
        "plt.scatter(x, df['CoM'], label = 'CoM')\n",
        "plt.scatter(x, df['RG'], label = 'RG')\n",
        "plt.title('Suboptimality of heuristics')\n",
        "plt.xlabel('Number of mass fractions')\n",
        "plt.ylabel('Maximal value ALG/OPT')\n",
        "#plt.ylabel('Mean value ALG/OPT')\n",
        "plt.legend()\n",
        "# plt.yscale(\"log\")\n",
        "plt.show()"
      ],
      "execution_count": 33,
      "outputs": [
        {
          "output_type": "display_data",
          "data": {
            "image/png": "[encoded data removed]",
            "text/plain": [
              "<Figure size 432x288 with 1 Axes>"
            ]
          },
          "metadata": {
            "tags": [],
            "needs_background": "light"
          }
        }
      ]
    },
    {
      "cell_type": "code",
      "metadata": {
        "id": "1qPpLan7zlpj",
        "colab": {
          "base_uri": "https://localhost:8080/",
          "height": 295
        },
        "outputId": "c148e1da-f77e-4dc0-ef2a-d15e7db348a5"
      },
      "source": [
        "#df = np.concatenate(([ma_C], [ma_r]), axis = 0) \n",
        "df = np.concatenate(([me_C], [me_r]), axis = 0) \n",
        "df = pd.DataFrame(df).T\n",
        "df.columns = ['CoM', 'RG']\n",
        "df.index = nu\n",
        "\n",
        "x = df.index\n",
        "plt.scatter(x, df['CoM'], label = 'CoM')\n",
        "plt.scatter(x, df['RG'], label = 'RG')\n",
        "plt.title('Suboptimality of heuristics')\n",
        "plt.xlabel('Number of mass fractions')\n",
        "#plt.ylabel('Maximal value ALG/OPT')\n",
        "plt.ylabel('Mean value ALG/OPT')\n",
        "plt.legend()\n",
        "# plt.yscale(\"log\")\n",
        "plt.show()"
      ],
      "execution_count": 34,
      "outputs": [
        {
          "output_type": "display_data",
          "data": {
            "image/png": "[encoded data removed]",
            "text/plain": [
              "<Figure size 432x288 with 1 Axes>"
            ]
          },
          "metadata": {
            "tags": [],
            "needs_background": "light"
          }
        }
      ]
    },
    {
      "cell_type": "markdown",
      "metadata": {
        "id": "WC9U6IAeXw0A"
      },
      "source": [
        "#### Results: computation times"
      ]
    },
    {
      "cell_type": "code",
      "metadata": {
        "id": "GquhEJG6X0Jr",
        "colab": {
          "base_uri": "https://localhost:8080/",
          "height": 295
        },
        "outputId": "7a740488-ef6c-4df9-a799-f1c881c0abd9"
      },
      "source": [
        "df = np.concatenate(([mC], [mr]), axis = 0) \n",
        "df = pd.DataFrame(df).T\n",
        "df.columns = ['CoM', 'RG']\n",
        "df.index = nu\n",
        "\n",
        "x = df.index\n",
        "plt.scatter(x, df['CoM'], label = 'CoM')\n",
        "plt.scatter(x, df['RG'], label = 'RG')\n",
        "#plt.scatter(x, df['vec'], label = 'Vectorization')\n",
        "plt.title('Computation times')\n",
        "plt.xlabel('Number of mass fractions')\n",
        "plt.ylabel('Mean computation time')\n",
        "plt.legend()\n",
        "plt.axis(ymin = -0.001)\n",
        "plt.axis(ymax =  0.002)\n",
        "# plt.yscale(\"log\")\n",
        "plt.show()"
      ],
      "execution_count": 36,
      "outputs": [
        {
          "output_type": "display_data",
          "data": {
            "image/png": "[encoded data removed]",
            "text/plain": [
              "<Figure size 432x288 with 1 Axes>"
            ]
          },
          "metadata": {
            "tags": [],
            "needs_background": "light"
          }
        }
      ]
    },
    {
      "cell_type": "markdown",
      "metadata": {
        "id": "dbJ5AoKMn444"
      },
      "source": [
        "# 7. Some Other Algorithms (supplementary)"
      ]
    },
    {
      "cell_type": "markdown",
      "metadata": {
        "id": "8Eno9gYe6eBK"
      },
      "source": [
        "### 7.1. Vectorization\r\n",
        "*   Associate with each order a vector;\r\n",
        "*   Remove symmetries;\r\n",
        "*   Store matrix of all unique vectors (trade-off: time/memory);\r\n",
        "*   Matrix is the same for each problem instance of size $n$; hence, matrix has to be computed/stored only once;\r\n",
        "*   Only works for linear operation cost functions.\r\n",
        "\r\n",
        "\r\n",
        "\r\n",
        "The following function constructs all order vectors of a given size $n$."
      ]
    },
    {
      "cell_type": "code",
      "metadata": {
        "id": "7oINVE4R7NFy"
      },
      "source": [
        "def create_vec(n):\r\n",
        "    '''\r\n",
        "    Creates all order vectors of size n (for n mass fractions; n-1 separation steps)\r\n",
        "    \r\n",
        "    IN :\r\n",
        "    n  : number of mass fractions (int)\r\n",
        "    \r\n",
        "    OUT:\r\n",
        "    N  : g(n,0) x n matrix in which each row is an order vector\r\n",
        "    '''\r\n",
        "    N=[]\r\n",
        "    if n == 1:\r\n",
        "        N = [[0]]\r\n",
        "    elif n == 2:\r\n",
        "        N = [[1,1]]\r\n",
        "    else:\r\n",
        "        m = math.ceil(n/2) # Loop through half the solutions because of symmtetry\r\n",
        "        \r\n",
        "        for i in range(1, m + 1):\r\n",
        "            x = create_vec(i)     # Recursive calls for subproblems\r\n",
        "            y = create_vec(n - i) # Recursive calls\r\n",
        "                      \r\n",
        "            K = []      # Some initializations\r\n",
        "            xn = len(x) # \r\n",
        "            yn = len(y) # \r\n",
        "                      \r\n",
        "            #  Concatenate subproblem solutions (combine each x[i] with each y[i])\r\n",
        "            for j in range(yn):\r\n",
        "                y[j] = [l + 1 for l in y[j]] # Add one for the current separation step\r\n",
        "                                             # (Taken out of the nested loop to avoid repetition)\r\n",
        "            for j in range(xn): \r\n",
        "                x[j] = [l + 1 for l in x[j]] # Add one for the current step\r\n",
        "                for k in range(yn):  \r\n",
        "                    lis = [sum([x[j],y[k]],[])]\r\n",
        "                    K  += lis # join the x,y\r\n",
        "\r\n",
        "            N += K # Add to the overall list\r\n",
        "        \r\n",
        "        # We constructed half; the other half is the mirror of this half; we add this below.\r\n",
        "        A = np.array(N)    # Convert to np\r\n",
        "        B = np.fliplr(A)   # flip left and right\r\n",
        "        A = np.concatenate((A,B),axis = 0) # Add to the existing set\r\n",
        "        A = np.unique(A, axis = 0)         # Remove duplicate rows\r\n",
        "        N = [list(a) for a in A]           # Convert back to list\r\n",
        "                    \r\n",
        "    return N "
      ],
      "execution_count": 37,
      "outputs": []
    },
    {
      "cell_type": "markdown",
      "metadata": {
        "id": "BKS2iJQkoIrg"
      },
      "source": [
        "### 7.1. Conversions between vectors and permutations\r\n",
        "\r\n",
        "More details available by request."
      ]
    },
    {
      "cell_type": "code",
      "metadata": {
        "id": "8KEvy99T7Re7"
      },
      "source": [
        "def argmax(l): return l.index(max(l)) # 'argmax'-macro\r\n",
        "def intersection(lst1, lst2): return list(set(lst1) & set(lst2)) "
      ],
      "execution_count": 38,
      "outputs": []
    },
    {
      "cell_type": "code",
      "metadata": {
        "id": "rUriTT37oEPG"
      },
      "source": [
        "def vec2per(v):\n",
        "    '''\n",
        "    Converges an order vector v to a permutation (in list l) corresponding to it.\n",
        "    '''\n",
        "    l = []\n",
        "    r = list(range(len(v)-1))\n",
        "    w = v[:]\n",
        "    \n",
        "    while len(w) > 2:\n",
        "        V  = max(w)\n",
        "        if V == 0:\n",
        "            print('Error: input is not an order vector')\n",
        "            return 'No order vector'\n",
        "        \n",
        "        for j in range(len(r)):\n",
        "            if w[j] == V and w[j+1] == V: # Group together two consecutive maxima               \n",
        "                l += [r[j]]  # Add the remaining separation step between the maxima to the permutation\n",
        "                w[j] -= 1    # Decrease the remaining region\n",
        "                del w[j+1]   # Remove one of the regions from vector WARNING: global variable\n",
        "                r.remove(r[j]) # Remove the separation step from the list of remaining steps\n",
        "                break        # Terminate for and repeat\n",
        "            elif w[j] == V:\n",
        "                print('Error: input is not an order vector')\n",
        "                return 'No order vector'\n",
        "    \n",
        "    l += [r[0]] # Add the remaining step\n",
        "    l  = [x + 1 for x in l]\n",
        "    return list(reversed(l)) # We worked backwards => reverse result"
      ],
      "execution_count": 39,
      "outputs": []
    },
    {
      "cell_type": "code",
      "metadata": {
        "id": "pPLlFLBloNiu"
      },
      "source": [
        "def per2vec(p):\n",
        "    '''\n",
        "    Converges separation order p to corresponding order vector v.\n",
        "    '''\n",
        "    \n",
        "    bounds = np.array([0, len(p) + 1]) # Bounds on regions already separated\n",
        "    v      = [0] * (len(p) + 1)        # The vector\n",
        "    \n",
        "    for i in p: # Loop through the permutation\n",
        "        cut = np.where(bounds > i)\n",
        "        c   = cut[len(cut) - 1][0] - 1 # Index of max_j bounds[j] < i \n",
        "        m   = bounds[c]                # max_j {bounds[j] : bounds[j] < i}\n",
        "        M   = bounds[c+1]              # min_j {bounds[j] : bounds[j] > i}\n",
        "        \n",
        "        for j in range(m, M): # Increment the correct region of the algorithm\n",
        "            v[j] += 1         # Increment the region affected by taking i as the next step\n",
        "        \n",
        "        b = list(bounds)\n",
        "        b = b[:c+1] + [i] + b[c+1:]    # Insert i in the correct location of bounds\n",
        "        bounds = np.array(b)\n",
        "    return v"
      ],
      "execution_count": 40,
      "outputs": []
    },
    {
      "cell_type": "markdown",
      "metadata": {
        "id": "tu22hrBpoShv"
      },
      "source": [
        "#### Test\n",
        "\n"
      ]
    },
    {
      "cell_type": "code",
      "metadata": {
        "id": "ziNY28kNoSpv",
        "colab": {
          "base_uri": "https://localhost:8080/"
        },
        "outputId": "0246851b-4b2d-458c-a673-40dd49c2586a"
      },
      "source": [
        "p = [3, 4, 1, 2] # Some permutation\n",
        "v = per2vec(p) # Compute the corresponding vector\n",
        "print(v)\n",
        "p = vec2per(v) # compute a corresponding permutation\n",
        "print(p)"
      ],
      "execution_count": 41,
      "outputs": [
        {
          "output_type": "stream",
          "text": [
            "[2, 3, 3, 2, 2]\n",
            "[3, 4, 1, 2]\n"
          ],
          "name": "stdout"
        }
      ]
    },
    {
      "cell_type": "markdown",
      "metadata": {
        "id": "EdT1wBn28epp"
      },
      "source": [
        "Time comparison"
      ]
    },
    {
      "cell_type": "code",
      "metadata": {
        "id": "lLkHNqBC8gQP"
      },
      "source": [
        "N = 10 # Problem size\r\n",
        "\r\n",
        "# A priori create matrix of all order vectors of size $N$.\r\n",
        "d = {}\r\n",
        "for i in range(N - 1):\r\n",
        "  d[i + 2] = create_vec(i + 2)"
      ],
      "execution_count": 42,
      "outputs": []
    },
    {
      "cell_type": "code",
      "metadata": {
        "id": "UQYD9AGrtV0v"
      },
      "source": [
        "# Initialize vectors storing mean time complexities per problem size\n",
        "MDP      = []\n",
        "Mvect    = []\n",
        "nu       = []\n",
        "N        = 10\n",
        "\n",
        "for size in range(N - 1):\n",
        "    size = size + 2\n",
        "    \n",
        "    nExp  = 10 # Number of experiments per size\n",
        "    k     = 0\n",
        "    \n",
        "    # Initialize vectors storing time complexities\n",
        "    DP      = []\n",
        "    simplex = []\n",
        "    IP      = []\n",
        "    ip      = []\n",
        "    vect    = []\n",
        "    \n",
        "    dd = d[size]\n",
        "    while k < nExp:\n",
        "        # Generate a random problem instance \n",
        "        M = np.random.uniform(0, 100, size)\n",
        "        \n",
        "        # Measure the computation time of the DP method       \n",
        "        time_start = time.clock()\n",
        "        DP_sodhi(M, 0, len(M))\n",
        "        T_DP = time.clock() - time_start\n",
        "    \n",
        "        DP += [T_DP]  # store the computation time\n",
        "        \n",
        "        \n",
        "        # Vectorization\n",
        "        \n",
        "        time_start = time.clock()\n",
        "        np.argmin(np.dot(np.array(dd), M))\n",
        "        T = time.clock() - time_start\n",
        "        \n",
        "        vect += [T]\n",
        "        \n",
        "        \n",
        "        k += 1\n",
        "    \n",
        "    nu       += [size]\n",
        "    MDP      += [np.mean(DP)]\n",
        "    Mvect    += [np.mean(vect)]"
      ],
      "execution_count": 43,
      "outputs": []
    },
    {
      "cell_type": "code",
      "metadata": {
        "id": "OH0saDsFRl9K"
      },
      "source": [
        "x = df.index\n",
        "plt.scatter(x, df['Vector'], label = 'Vectorization')\n",
        "plt.scatter(x, df['DP'], label = 'Dynamic Programming')\n",
        "#plt.scatter(x, df['Interior points'], label = 'Linear Programming')\n",
        "plt.title('Computation times')\n",
        "plt.xlabel('Number of mass fractions')\n",
        "plt.ylabel('Mean computation time (s)')\n",
        "plt.legend()\n",
        "# plt.yscale(\"log\")\n",
        "plt.show()"
      ],
      "execution_count": null,
      "outputs": []
    },
    {
      "cell_type": "code",
      "metadata": {
        "id": "EgoH6BqORqZR"
      },
      "source": [
        ""
      ],
      "execution_count": null,
      "outputs": []
    }
  ]
}